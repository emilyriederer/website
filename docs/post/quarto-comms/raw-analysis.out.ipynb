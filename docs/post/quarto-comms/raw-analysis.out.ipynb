{
  "cells": [
    {
      "cell_type": "markdown",
      "metadata": {},
      "source": [
        "# Demo Notebook"
      ],
      "id": "f5dcf79b-0339-4315-9c2d-0a0cf9f9c9a4"
    },
    {
      "cell_type": "code",
      "execution_count": 1,
      "metadata": {},
      "outputs": [],
      "source": [
        "import requests\n",
        "import polars as pl\n",
        "import polars.selectors as cs\n",
        "from plotnine import *\n",
        "from great_tables import *"
      ],
      "id": "cell-1"
    },
    {
      "cell_type": "markdown",
      "metadata": {},
      "source": [
        "## Data Retrieval"
      ],
      "id": "37a99a9c-37db-406d-9183-776344a661c1"
    },
    {
      "cell_type": "code",
      "execution_count": 2,
      "metadata": {},
      "outputs": [],
      "source": [
        "res = []\n",
        "url = 'https://www.federalregister.gov/api/v1/documents.json?fields[]=document_number&fields[]=excerpts&fields[]=page_length&fields[]=president&fields[]=publication_date&fields[]=raw_text_url&fields[]=signing_date&fields[]=title&fields[]=toc_subject&fields[]=topics&per_page=20&conditions[publication_date][gte]=2005-01-20&conditions[presidential_document_type][]=executive_order&conditions[president][]=george-w-bush&conditions[president][]=barack-obama&conditions[president][]=donald-trump&conditions[president][]=joe-biden&conditions[president][]=donald-trump'\n",
        "\n",
        "while url != '':\n",
        "\n",
        "    # retrieve results\n",
        "    response = requests.get(url)\n",
        "    response.raise_for_status()\n",
        "    res_temp = response.json()\n",
        "    res += [res_temp]\n",
        "\n",
        "    # get next url\n",
        "    url = res_temp.get('next_page_url','')"
      ],
      "id": "cell-4"
    },
    {
      "cell_type": "markdown",
      "metadata": {},
      "source": [
        "## Data Cleaning"
      ],
      "id": "da8aabce-566e-4c05-986e-81a3af4a7a3a"
    },
    {
      "cell_type": "code",
      "execution_count": 3,
      "metadata": {},
      "outputs": [
        {
          "output_type": "stream",
          "name": "stdout",
          "text": [
            "Rows: 969\n",
            "Columns: 11\n",
            "$ document_number         <str> '2025-14212', '2025-14217', '2025-14218', '2025-13925', '2025-12961', '2025-12962', '2025-12774', '2025-12775', '2025-12505', '2025-12506'\n",
            "$ excerpts               <null> None, None, None, None, None, None, None, None, None, None\n",
            "$ page_length             <i64> 4, 3, 3, 3, 2, 2, 3, 2, 1, 5\n",
            "$ identifier              <str> 'donald-trump', 'donald-trump', 'donald-trump', 'donald-trump', 'donald-trump', 'donald-trump', 'donald-trump', 'donald-trump', 'donald-trump', 'donald-trump'\n",
            "$ name                    <str> 'Donald Trump', 'Donald Trump', 'Donald Trump', 'Donald Trump', 'Donald Trump', 'Donald Trump', 'Donald Trump', 'Donald Trump', 'Donald Trump', 'Donald Trump'\n",
            "$ publication_date        <str> '2025-07-28', '2025-07-28', '2025-07-28', '2025-07-23', '2025-07-10', '2025-07-10', '2025-07-09', '2025-07-09', '2025-07-03', '2025-07-03'\n",
            "$ raw_text_url            <str> 'https://www.federalregister.gov/documents/full_text/text/2025/07/28/2025-14212.txt', 'https://www.federalregister.gov/documents/full_text/text/2025/07/28/2025-14217.txt', 'https://www.federalregister.gov/documents/full_text/text/2025/07/28/2025-14218.txt', 'https://www.federalregister.gov/documents/full_text/text/2025/07/23/2025-13925.txt', 'https://www.federalregister.gov/documents/full_text/text/2025/07/10/2025-12961.txt', 'https://www.federalregister.gov/documents/full_text/text/2025/07/10/2025-12962.txt', 'https://www.federalregister.gov/documents/full_text/text/2025/07/09/2025-12774.txt', 'https://www.federalregister.gov/documents/full_text/text/2025/07/09/2025-12775.txt', 'https://www.federalregister.gov/documents/full_text/text/2025/07/03/2025-12505.txt', 'https://www.federalregister.gov/documents/full_text/text/2025/07/03/2025-12506.txt'\n",
            "$ signing_date            <str> '2025-07-23', '2025-07-23', '2025-07-23', '2025-07-17', '2025-07-07', '2025-07-07', '2025-07-03', '2025-07-03', '2025-06-30', '2025-06-30'\n",
            "$ title                   <str> 'Accelerating Federal Permitting of Data Center Infrastructure', 'Preventing Woke AI in the Federal Government', 'Promoting the Export of the American AI Technology Stack', 'Creating Schedule G in the Excepted Service', 'Ending Market Distorting Subsidies for Unreliable, Foreign-Controlled Energy Sources', 'Extending the Modification of the Reciprocal Tariff Rates', \"Establishing the President's Make America Beautiful Again Commission\", 'Making America Beautiful Again by Improving Our National Parks', 'Establishing a White House Office for Special Peace Missions', 'Providing for the Revocation of Syria Sanctions'\n",
            "$ toc_subject             <str> None, 'Government Agencies and Employees', None, 'Government Agencies and Employees', None, None, None, None, None, None\n",
            "$ topics           <list[null]> [], [], [], [], [], [], [], [], [], []\n",
            "\n",
            "Rows: 969\n",
            "Columns: 11\n",
            "$ document_number         <str> '2025-14212', '2025-14217', '2025-14218', '2025-13925', '2025-12961', '2025-12962', '2025-12774', '2025-12775', '2025-12505', '2025-12506'\n",
            "$ excerpts               <null> None, None, None, None, None, None, None, None, None, None\n",
            "$ page_length             <i64> 4, 3, 3, 3, 2, 2, 3, 2, 1, 5\n",
            "$ identifier              <str> 'donald-trump', 'donald-trump', 'donald-trump', 'donald-trump', 'donald-trump', 'donald-trump', 'donald-trump', 'donald-trump', 'donald-trump', 'donald-trump'\n",
            "$ name                    <str> 'Donald Trump', 'Donald Trump', 'Donald Trump', 'Donald Trump', 'Donald Trump', 'Donald Trump', 'Donald Trump', 'Donald Trump', 'Donald Trump', 'Donald Trump'\n",
            "$ publication_date        <str> '2025-07-28', '2025-07-28', '2025-07-28', '2025-07-23', '2025-07-10', '2025-07-10', '2025-07-09', '2025-07-09', '2025-07-03', '2025-07-03'\n",
            "$ raw_text_url            <str> 'https://www.federalregister.gov/documents/full_text/text/2025/07/28/2025-14212.txt', 'https://www.federalregister.gov/documents/full_text/text/2025/07/28/2025-14217.txt', 'https://www.federalregister.gov/documents/full_text/text/2025/07/28/2025-14218.txt', 'https://www.federalregister.gov/documents/full_text/text/2025/07/23/2025-13925.txt', 'https://www.federalregister.gov/documents/full_text/text/2025/07/10/2025-12961.txt', 'https://www.federalregister.gov/documents/full_text/text/2025/07/10/2025-12962.txt', 'https://www.federalregister.gov/documents/full_text/text/2025/07/09/2025-12774.txt', 'https://www.federalregister.gov/documents/full_text/text/2025/07/09/2025-12775.txt', 'https://www.federalregister.gov/documents/full_text/text/2025/07/03/2025-12505.txt', 'https://www.federalregister.gov/documents/full_text/text/2025/07/03/2025-12506.txt'\n",
            "$ signing_date            <str> '2025-07-23', '2025-07-23', '2025-07-23', '2025-07-17', '2025-07-07', '2025-07-07', '2025-07-03', '2025-07-03', '2025-06-30', '2025-06-30'\n",
            "$ title                   <str> 'Accelerating Federal Permitting of Data Center Infrastructure', 'Preventing Woke AI in the Federal Government', 'Promoting the Export of the American AI Technology Stack', 'Creating Schedule G in the Excepted Service', 'Ending Market Distorting Subsidies for Unreliable, Foreign-Controlled Energy Sources', 'Extending the Modification of the Reciprocal Tariff Rates', \"Establishing the President's Make America Beautiful Again Commission\", 'Making America Beautiful Again by Improving Our National Parks', 'Establishing a White House Office for Special Peace Missions', 'Providing for the Revocation of Syria Sanctions'\n",
            "$ toc_subject             <str> None, 'Government Agencies and Employees', None, 'Government Agencies and Employees', None, None, None, None, None, None\n",
            "$ topics           <list[null]> [], [], [], [], [], [], [], [], [], []\n"
          ]
        }
      ],
      "source": [
        "df_res = (\n",
        "    pl.DataFrame(res)\n",
        "    .select('results')\n",
        "    .explode('results')\n",
        "    .unnest('results')\n",
        "    .unnest('president')\n",
        ")\n",
        "df_res.glimpse()"
      ],
      "id": "cell-6"
    },
    {
      "cell_type": "code",
      "execution_count": 4,
      "metadata": {},
      "outputs": [
        {
          "output_type": "display_data",
          "metadata": {},
          "data": {
            "text/html": [
              "</div>"
            ]
          }
        }
      ],
      "source": [
        "# lookup table\n",
        "\n",
        "term = [1,2,1,2,1,1,2]\n",
        "start_year = [2001, 2005, 2009, 2013, 2017, 2021, 2025]\n",
        "start_date = [f'{year}-01-20' for year in start_year]\n",
        "end_date = start_date[1:] + ['2029-01-20']\n",
        "president_lname = ['Bush']*2 + ['Obama']*2 + ['Trump'] + ['Biden'] + ['Trump']\n",
        "df_lkup = pl.DataFrame([term, start_year, start_date, end_date, president_lname], \n",
        "                       schema = ['term','start_year','start_date', 'end_date', 'president_lname'],\n",
        "                       orient = 'col')\n",
        "df_lkup"
      ],
      "id": "cell-7"
    },
    {
      "cell_type": "code",
      "execution_count": 5,
      "metadata": {},
      "outputs": [
        {
          "output_type": "stream",
          "name": "stdout",
          "text": [
            "Rows: 952\n",
            "Columns: 17\n",
            "$ document_number         <str> '2025-14212', '2025-14217', '2025-14218', '2025-13925', '2025-12961', '2025-12962', '2025-12774', '2025-12775', '2025-12505', '2025-12506'\n",
            "$ excerpts               <null> None, None, None, None, None, None, None, None, None, None\n",
            "$ page_length             <i64> 4, 3, 3, 3, 2, 2, 3, 2, 1, 5\n",
            "$ identifier              <str> 'donald-trump', 'donald-trump', 'donald-trump', 'donald-trump', 'donald-trump', 'donald-trump', 'donald-trump', 'donald-trump', 'donald-trump', 'donald-trump'\n",
            "$ name                    <str> 'Donald Trump', 'Donald Trump', 'Donald Trump', 'Donald Trump', 'Donald Trump', 'Donald Trump', 'Donald Trump', 'Donald Trump', 'Donald Trump', 'Donald Trump'\n",
            "$ publication_date        <str> '2025-07-28', '2025-07-28', '2025-07-28', '2025-07-23', '2025-07-10', '2025-07-10', '2025-07-09', '2025-07-09', '2025-07-03', '2025-07-03'\n",
            "$ raw_text_url            <str> 'https://www.federalregister.gov/documents/full_text/text/2025/07/28/2025-14212.txt', 'https://www.federalregister.gov/documents/full_text/text/2025/07/28/2025-14217.txt', 'https://www.federalregister.gov/documents/full_text/text/2025/07/28/2025-14218.txt', 'https://www.federalregister.gov/documents/full_text/text/2025/07/23/2025-13925.txt', 'https://www.federalregister.gov/documents/full_text/text/2025/07/10/2025-12961.txt', 'https://www.federalregister.gov/documents/full_text/text/2025/07/10/2025-12962.txt', 'https://www.federalregister.gov/documents/full_text/text/2025/07/09/2025-12774.txt', 'https://www.federalregister.gov/documents/full_text/text/2025/07/09/2025-12775.txt', 'https://www.federalregister.gov/documents/full_text/text/2025/07/03/2025-12505.txt', 'https://www.federalregister.gov/documents/full_text/text/2025/07/03/2025-12506.txt'\n",
            "$ signing_date            <str> '2025-07-23', '2025-07-23', '2025-07-23', '2025-07-17', '2025-07-07', '2025-07-07', '2025-07-03', '2025-07-03', '2025-06-30', '2025-06-30'\n",
            "$ title                   <str> 'Accelerating Federal Permitting of Data Center Infrastructure', 'Preventing Woke AI in the Federal Government', 'Promoting the Export of the American AI Technology Stack', 'Creating Schedule G in the Excepted Service', 'Ending Market Distorting Subsidies for Unreliable, Foreign-Controlled Energy Sources', 'Extending the Modification of the Reciprocal Tariff Rates', \"Establishing the President's Make America Beautiful Again Commission\", 'Making America Beautiful Again by Improving Our National Parks', 'Establishing a White House Office for Special Peace Missions', 'Providing for the Revocation of Syria Sanctions'\n",
            "$ toc_subject             <str> None, 'Government Agencies and Employees', None, 'Government Agencies and Employees', None, None, None, None, None, None\n",
            "$ topics           <list[null]> [], [], [], [], [], [], [], [], [], []\n",
            "$ president_lname         <str> 'Trump', 'Trump', 'Trump', 'Trump', 'Trump', 'Trump', 'Trump', 'Trump', 'Trump', 'Trump'\n",
            "$ term                    <i64> 2, 2, 2, 2, 2, 2, 2, 2, 2, 2\n",
            "$ start_year              <i64> 2025, 2025, 2025, 2025, 2025, 2025, 2025, 2025, 2025, 2025\n",
            "$ start_date              <str> '2025-01-20', '2025-01-20', '2025-01-20', '2025-01-20', '2025-01-20', '2025-01-20', '2025-01-20', '2025-01-20', '2025-01-20', '2025-01-20'\n",
            "$ end_date                <str> '2029-01-20', '2029-01-20', '2029-01-20', '2029-01-20', '2029-01-20', '2029-01-20', '2029-01-20', '2029-01-20', '2029-01-20', '2029-01-20'\n",
            "$ pres_term               <str> 'Trump - 2', 'Trump - 2', 'Trump - 2', 'Trump - 2', 'Trump - 2', 'Trump - 2', 'Trump - 2', 'Trump - 2', 'Trump - 2', 'Trump - 2'\n",
            "\n",
            "Rows: 952\n",
            "Columns: 17\n",
            "$ document_number         <str> '2025-14212', '2025-14217', '2025-14218', '2025-13925', '2025-12961', '2025-12962', '2025-12774', '2025-12775', '2025-12505', '2025-12506'\n",
            "$ excerpts               <null> None, None, None, None, None, None, None, None, None, None\n",
            "$ page_length             <i64> 4, 3, 3, 3, 2, 2, 3, 2, 1, 5\n",
            "$ identifier              <str> 'donald-trump', 'donald-trump', 'donald-trump', 'donald-trump', 'donald-trump', 'donald-trump', 'donald-trump', 'donald-trump', 'donald-trump', 'donald-trump'\n",
            "$ name                    <str> 'Donald Trump', 'Donald Trump', 'Donald Trump', 'Donald Trump', 'Donald Trump', 'Donald Trump', 'Donald Trump', 'Donald Trump', 'Donald Trump', 'Donald Trump'\n",
            "$ publication_date        <str> '2025-07-28', '2025-07-28', '2025-07-28', '2025-07-23', '2025-07-10', '2025-07-10', '2025-07-09', '2025-07-09', '2025-07-03', '2025-07-03'\n",
            "$ raw_text_url            <str> 'https://www.federalregister.gov/documents/full_text/text/2025/07/28/2025-14212.txt', 'https://www.federalregister.gov/documents/full_text/text/2025/07/28/2025-14217.txt', 'https://www.federalregister.gov/documents/full_text/text/2025/07/28/2025-14218.txt', 'https://www.federalregister.gov/documents/full_text/text/2025/07/23/2025-13925.txt', 'https://www.federalregister.gov/documents/full_text/text/2025/07/10/2025-12961.txt', 'https://www.federalregister.gov/documents/full_text/text/2025/07/10/2025-12962.txt', 'https://www.federalregister.gov/documents/full_text/text/2025/07/09/2025-12774.txt', 'https://www.federalregister.gov/documents/full_text/text/2025/07/09/2025-12775.txt', 'https://www.federalregister.gov/documents/full_text/text/2025/07/03/2025-12505.txt', 'https://www.federalregister.gov/documents/full_text/text/2025/07/03/2025-12506.txt'\n",
            "$ signing_date            <str> '2025-07-23', '2025-07-23', '2025-07-23', '2025-07-17', '2025-07-07', '2025-07-07', '2025-07-03', '2025-07-03', '2025-06-30', '2025-06-30'\n",
            "$ title                   <str> 'Accelerating Federal Permitting of Data Center Infrastructure', 'Preventing Woke AI in the Federal Government', 'Promoting the Export of the American AI Technology Stack', 'Creating Schedule G in the Excepted Service', 'Ending Market Distorting Subsidies for Unreliable, Foreign-Controlled Energy Sources', 'Extending the Modification of the Reciprocal Tariff Rates', \"Establishing the President's Make America Beautiful Again Commission\", 'Making America Beautiful Again by Improving Our National Parks', 'Establishing a White House Office for Special Peace Missions', 'Providing for the Revocation of Syria Sanctions'\n",
            "$ toc_subject             <str> None, 'Government Agencies and Employees', None, 'Government Agencies and Employees', None, None, None, None, None, None\n",
            "$ topics           <list[null]> [], [], [], [], [], [], [], [], [], []\n",
            "$ president_lname         <str> 'Trump', 'Trump', 'Trump', 'Trump', 'Trump', 'Trump', 'Trump', 'Trump', 'Trump', 'Trump'\n",
            "$ term                    <i64> 2, 2, 2, 2, 2, 2, 2, 2, 2, 2\n",
            "$ start_year              <i64> 2025, 2025, 2025, 2025, 2025, 2025, 2025, 2025, 2025, 2025\n",
            "$ start_date              <str> '2025-01-20', '2025-01-20', '2025-01-20', '2025-01-20', '2025-01-20', '2025-01-20', '2025-01-20', '2025-01-20', '2025-01-20', '2025-01-20'\n",
            "$ end_date                <str> '2029-01-20', '2029-01-20', '2029-01-20', '2029-01-20', '2029-01-20', '2029-01-20', '2029-01-20', '2029-01-20', '2029-01-20', '2029-01-20'\n",
            "$ pres_term               <str> 'Trump - 2', 'Trump - 2', 'Trump - 2', 'Trump - 2', 'Trump - 2', 'Trump - 2', 'Trump - 2', 'Trump - 2', 'Trump - 2', 'Trump - 2'\n"
          ]
        }
      ],
      "source": [
        "df_clean = (\n",
        "    df_res\n",
        "    .with_columns(\n",
        "        president_lname = pl.col('identifier')\n",
        "                            .str.extract('[A-Za-z ]+-([A-Za-z]+$)', group_index = 1)\n",
        "                            .str.to_titlecase(),\n",
        "    )\n",
        "    # there's a bug in polars join_asof() at the time of writing...\n",
        "    .join(df_lkup, on = 'president_lname')\n",
        "    .filter( pl.col('signing_date') >= pl.col('start_date'))\n",
        "    .filter( pl.col('signing_date') <  pl.col('end_date'))\n",
        "    .with_columns( pres_term = pl.concat_str( pl.col('president_lname'), pl.lit(' - '), pl.col('term')) )\n",
        ")\n",
        "df_clean.glimpse()"
      ],
      "id": "cell-8"
    },
    {
      "cell_type": "code",
      "execution_count": 6,
      "metadata": {},
      "outputs": [
        {
          "output_type": "display_data",
          "metadata": {},
          "data": {
            "text/html": [
              "</div>"
            ]
          }
        }
      ],
      "source": [
        "df_agg = (\n",
        "    df_clean\n",
        "    .group_by('pres_term')\n",
        "    .agg(\n",
        "        n_eo_issued = pl.col('document_number').count(),\n",
        "        start_date = pl.col('publication_date').min()\n",
        "    )\n",
        ")\n",
        "\n",
        "df_agg.sort('start_date')"
      ],
      "id": "cell-9"
    },
    {
      "cell_type": "code",
      "execution_count": 7,
      "metadata": {},
      "outputs": [
        {
          "output_type": "stream",
          "name": "stdout",
          "text": [
            "Rows: 711\n",
            "Columns: 6\n",
            "$ pres_term        <str> 'Biden - 1', 'Biden - 1', 'Biden - 1', 'Biden - 1', 'Biden - 1', 'Biden - 1', 'Biden - 1', 'Biden - 1', 'Biden - 1', 'Biden - 1'\n",
            "$ term_label       <str> '(2021)\\nBiden', '(2021)\\nBiden', '(2021)\\nBiden', '(2021)\\nBiden', '(2021)\\nBiden', '(2021)\\nBiden', '(2021)\\nBiden', '(2021)\\nBiden', '(2021)\\nBiden', '(2021)\\nBiden'\n",
            "$ day_since_start  <i64> 0, 1, 2, 5, 6, 7, 8, 13, 15, 21\n",
            "$ signing_date    <date> 2021-01-20, 2021-01-21, 2021-01-22, 2021-01-25, 2021-01-26, 2021-01-27, 2021-01-28, 2021-02-02, 2021-02-04, 2021-02-10\n",
            "$ len              <u32> 9, 8, 2, 2, 1, 2, 1, 3, 1, 1\n",
            "$ n_cumul          <u32> 9, 17, 19, 21, 22, 24, 25, 28, 29, 30\n",
            "\n",
            "Rows: 711\n",
            "Columns: 6\n",
            "$ pres_term        <str> 'Biden - 1', 'Biden - 1', 'Biden - 1', 'Biden - 1', 'Biden - 1', 'Biden - 1', 'Biden - 1', 'Biden - 1', 'Biden - 1', 'Biden - 1'\n",
            "$ term_label       <str> '(2021)\\nBiden', '(2021)\\nBiden', '(2021)\\nBiden', '(2021)\\nBiden', '(2021)\\nBiden', '(2021)\\nBiden', '(2021)\\nBiden', '(2021)\\nBiden', '(2021)\\nBiden', '(2021)\\nBiden'\n",
            "$ day_since_start  <i64> 0, 1, 2, 5, 6, 7, 8, 13, 15, 21\n",
            "$ signing_date    <date> 2021-01-20, 2021-01-21, 2021-01-22, 2021-01-25, 2021-01-26, 2021-01-27, 2021-01-28, 2021-02-02, 2021-02-04, 2021-02-10\n",
            "$ len              <u32> 9, 8, 2, 2, 1, 2, 1, 3, 1, 1\n",
            "$ n_cumul          <u32> 9, 17, 19, 21, 22, 24, 25, 28, 29, 30\n"
          ]
        }
      ],
      "source": [
        "df_cumul = (\n",
        "    df_clean\n",
        "    .with_columns( cs.ends_with('date').cast(pl.Date) )\n",
        "    .with_columns(\n",
        "        day_since_start = ( pl.col('signing_date') - pl.col('start_date') ).dt.total_days(),\n",
        "        term_label = pl.concat_str( pl.lit('('), pl.col('start_date').dt.year(), pl.lit(')'),\n",
        "                                    pl.lit('\\n'),\n",
        "                                    pl.col('president_lname') )\n",
        "    )\n",
        "    .group_by('pres_term', 'term_label', 'day_since_start', 'signing_date')\n",
        "    .len()\n",
        "    .with_columns( n_cumul = pl.col('len').cum_sum().over('pres_term', order_by = 'day_since_start') )\n",
        ")\n",
        "df_cumul.sort('pres_term', 'day_since_start').glimpse()"
      ],
      "id": "cell-10"
    },
    {
      "cell_type": "code",
      "execution_count": 8,
      "metadata": {},
      "outputs": [
        {
          "output_type": "display_data",
          "metadata": {},
          "data": {
            "image/png": "[encoded data removed]"
          }
        }
      ],
      "source": [
        "# plot not included in final; the first plot you make often isn't the best!\n",
        "# for example, this one has censored data because (as of writing in 2025, Trump 2 is not complete)\n",
        "\n",
        "(\n",
        "ggplot(df_cumul.group_by('term_label').agg( pl.col('n_cumul').max() )) +\n",
        "aes(x = 'term_label', y = 'n_cumul', fill = 'term_label') +\n",
        "geom_col() +\n",
        "labs(title = 'Executive Orders Signed by Term', x = '', y = '') +\n",
        "theme_538() +\n",
        "scale_color_brewer('qual', palette = 'Set1') +\n",
        "theme(legend_position = 'none')\n",
        ")"
      ],
      "id": "cell-11"
    },
    {
      "cell_type": "code",
      "execution_count": 9,
      "metadata": {},
      "outputs": [
        {
          "output_type": "display_data",
          "metadata": {},
          "data": {}
        }
      ],
      "source": [
        "(\n",
        "ggplot(df_cumul) +\n",
        "aes(x = 'day_since_start', y = 'n_cumul', color = 'term_label') +\n",
        "geom_line() +\n",
        "labs(\n",
        "    title = 'Executive Orders Signed by Days in Office',\n",
        "    x = 'Days since Term Start', \n",
        "    y = 'EOs Issued', \n",
        "    color = 'Term') +\n",
        "theme_538() +\n",
        "scale_color_brewer('qual', palette = 'Set1') +\n",
        "theme(legend_position = 'bottom')\n",
        ")"
      ],
      "id": "cell-fig-cum-eo"
    },
    {
      "cell_type": "code",
      "execution_count": 10,
      "metadata": {},
      "outputs": [
        {
          "output_type": "display_data",
          "metadata": {},
          "data": {
            "text/html": [
              "\n",
              "\n",
              "</div>\n",
              "        \n",
              "</body>\n",
              "</html>\n",
              "            "
            ]
          }
        }
      ],
      "source": [
        "df_pit = (\n",
        "  df_cumul\n",
        "  .with_columns( max_dss = pl.when( pl.col('signing_date') == pl.col('signing_date').max() )\n",
        "                             .then( pl.col('day_since_start') )\n",
        "                             .otherwise( None )\n",
        "                             .max()\n",
        "  )\n",
        "  .group_by('term_label', 'max_dss')\n",
        "  .agg( \n",
        "    n_ttl_pit = pl.when( pl.col('day_since_start') <= pl.col('max_dss') ).then(pl.col('n_cumul')).otherwise(None).max(),\n",
        "    n_ttl = pl.col('n_cumul').max(),\n",
        "   )\n",
        "   .with_columns( \n",
        "      n_ttl = pl.when( pl.col('term_label') == pl.col('term_label').max())\n",
        "                .then(None)\n",
        "                .otherwise( pl.col('n_ttl')) )\n",
        "  .sort('term_label')\n",
        ")\n",
        "\n",
        "n_days_in_office = df_pit.get_column('max_dss')[0]\n",
        "\n",
        "(\n",
        "  GT(df_pit)\n",
        "  .cols_hide('max_dss')\n",
        "  .tab_header(\n",
        "    title = 'Executive Orders Issued by Term',\n",
        "    subtitle = f'Normalized for first {n_days_in_office} days in office' +\n",
        "               f' ({n_days_in_office * 100 / (365*4 + 1):.1f}% of term)')\n",
        "  .tab_spanner(\n",
        "        label=\"Count\",\n",
        "        columns= cs.contains(\"ttl\")\n",
        "    )\n",
        "  .cols_label(\n",
        "    term_label = 'Term',\n",
        "    n_ttl_pit = 'Point in time',\n",
        "    n_ttl = 'Full term'\n",
        "  )\n",
        "  .cols_align('center')\n",
        "  .sub_missing(missing_text=\"-\")\n",
        "  .opt_row_striping()\n",
        ")"
      ],
      "id": "tbl-pit-eo"
    },
    {
      "cell_type": "markdown",
      "metadata": {},
      "source": [
        "I have some thoughts…"
      ],
      "id": "9ddd4641-c6b4-44cb-be8c-e75e143a89cc"
    }
  ],
  "nbformat": 4,
  "nbformat_minor": 5,
  "metadata": {
    "kernelspec": {
      "name": "python3",
      "display_name": "Python 3",
      "language": "python"
    },
    "language_info": {
      "name": "python"
    }
  }
}